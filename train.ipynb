{
 "cells": [
  {
   "cell_type": "code",
   "execution_count": 2,
   "metadata": {},
   "outputs": [],
   "source": [
    "import sys\n",
    "sys.path.append('/root/fastMRI')"
   ]
  },
  {
   "cell_type": "code",
   "execution_count": 6,
   "metadata": {},
   "outputs": [
    {
     "name": "stdout",
     "output_type": "stream",
     "text": [
      "Current cuda device:  0\n",
      "Epoch # 0 ............... test_Unet ...............\n",
      "Epoch = [  0/  3] Iter = [   0/1598] Loss = 0.7556 Time = 0.0402s\n",
      "Epoch = [  0/  3] Iter = [ 500/1598] Loss = 0.2922 Time = 0.0330s\n",
      "Epoch = [  0/  3] Iter = [1000/1598] Loss = 0.1123 Time = 0.0330s\n",
      "Epoch = [  0/  3] Iter = [1500/1598] Loss = 0.1068 Time = 0.0332s\n",
      "Epoch = [   0/   3] TrainLoss = 0.1607 ValLoss = 0.1297 TrainTime = 52.8693s ValTime = 3.3118s\n",
      "@@@@@@@@@@@@@@@@@@@@@@@@@@@@@@@@@@@@NewRecord@@@@@@@@@@@@@@@@@@@@@@@@@@@@\n",
      "ForwardTime = 0.0668s\n",
      "Epoch # 1 ............... test_Unet ...............\n",
      "Epoch = [  1/  3] Iter = [   0/1598] Loss = 0.171 Time = 0.0367s\n",
      "Epoch = [  1/  3] Iter = [ 500/1598] Loss = 0.2032 Time = 0.0330s\n",
      "Epoch = [  1/  3] Iter = [1000/1598] Loss = 0.1104 Time = 0.0333s\n",
      "Epoch = [  1/  3] Iter = [1500/1598] Loss = 0.09321 Time = 0.0341s\n",
      "Epoch = [   1/   3] TrainLoss = 0.1276 ValLoss = 0.1233 TrainTime = 53.2252s ValTime = 3.4324s\n",
      "@@@@@@@@@@@@@@@@@@@@@@@@@@@@@@@@@@@@NewRecord@@@@@@@@@@@@@@@@@@@@@@@@@@@@\n",
      "ForwardTime = 0.8072s\n",
      "Epoch # 2 ............... test_Unet ...............\n",
      "Epoch = [  2/  3] Iter = [   0/1598] Loss = 0.1624 Time = 0.0518s\n",
      "Epoch = [  2/  3] Iter = [ 500/1598] Loss = 0.2054 Time = 0.0332s\n",
      "Epoch = [  2/  3] Iter = [1000/1598] Loss = 0.1073 Time = 0.0332s\n",
      "Epoch = [  2/  3] Iter = [1500/1598] Loss = 0.08934 Time = 0.0339s\n",
      "Epoch = [   2/   3] TrainLoss = 0.122 ValLoss = 0.1229 TrainTime = 53.4244s ValTime = 3.3600s\n",
      "@@@@@@@@@@@@@@@@@@@@@@@@@@@@@@@@@@@@NewRecord@@@@@@@@@@@@@@@@@@@@@@@@@@@@\n",
      "ForwardTime = 0.8556s\n"
     ]
    }
   ],
   "source": [
    "import argparse\n",
    "import shutil\n",
    "from utils.learning.train_part import train\n",
    "from pathlib import Path\n",
    "\n",
    "\n",
    "def parse():\n",
    "    parser = argparse.ArgumentParser(description='Train Unet on FastMRI challenge Images',\n",
    "                                    formatter_class=argparse.ArgumentDefaultsHelpFormatter)\n",
    "    parser.add_argument('-g', '--GPU-NUM', type=int, default=0, help='GPU number to allocate')\n",
    "    parser.add_argument('-b', '--batch-size', type=int, default=4, help='Batch size')\n",
    "    parser.add_argument('-e', '--num-epochs', type=int, default=3, help='Number of epochs')\n",
    "    parser.add_argument('-l', '--lr', type=float, default=1e-3, help='Learning rate')\n",
    "    parser.add_argument('-r', '--report-interval', type=int, default=500, help='Report interval')\n",
    "    parser.add_argument('-n', '--net-name', type=Path, default='test_Unet', help='Name of network')\n",
    "    parser.add_argument('-t', '--data-path-train', type=Path, default='/root/input/train/image/', help='Directory of train data')\n",
    "    parser.add_argument('-v', '--data-path-val', type=Path, default='/root/input/val/image/', help='Directory of validation data')\n",
    "    \n",
    "    parser.add_argument('--in-chans', type=int, default=1, help='Size of input channels for network')\n",
    "    parser.add_argument('--out-chans', type=int, default=1, help='Size of output channels for network')\n",
    "    parser.add_argument('--input-key', type=str, default='image_input', help='Name of input key')\n",
    "    parser.add_argument('--target-key', type=str, default='image_label', help='Name of target key')\n",
    "    parser.add_argument('--max-key', type=str, default='max', help='Name of max key in attributes')\n",
    "\n",
    "    args = parser.parse_args(args=[])\n",
    "    return args\n",
    "\n",
    "if __name__ == '__main__':\n",
    "    args = parse()\n",
    "    args.exp_dir = '../result' / args.net_name / 'checkpoints'\n",
    "    args.val_dir = '../result' / args.net_name / 'reconstructions_val'\n",
    "\n",
    "    args.exp_dir.mkdir(parents=True, exist_ok=True)\n",
    "    args.val_dir.mkdir(parents=True, exist_ok=True)\n",
    "\n",
    "    train(args)\n"
   ]
  },
  {
   "cell_type": "code",
   "execution_count": null,
   "metadata": {},
   "outputs": [],
   "source": []
  }
 ],
 "metadata": {
  "anaconda-cloud": {},
  "kernelspec": {
   "display_name": "Full on Python 3.6 (GPU)",
   "language": "python",
   "name": "python3"
  },
  "language_info": {
   "codemirror_mode": {
    "name": "ipython",
    "version": 3
   },
   "file_extension": ".py",
   "mimetype": "text/x-python",
   "name": "python",
   "nbconvert_exporter": "python",
   "pygments_lexer": "ipython3",
   "version": "3.6.14"
  }
 },
 "nbformat": 4,
 "nbformat_minor": 4
}
